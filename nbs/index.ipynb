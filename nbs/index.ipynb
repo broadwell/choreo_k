{
 "cells": [
  {
   "cell_type": "markdown",
   "metadata": {},
   "source": [
    "# choreo_k\n",
    "\n",
    "> Tools for pose detection and choreographic analysis of dance videos"
   ]
  },
  {
   "cell_type": "markdown",
   "metadata": {},
   "source": [
    "![Excerpts from analyses of BTS's Fire and Jennie's SOLO](BTS_Jennie_excerpts.gif)"
   ]
  },
  {
   "cell_type": "markdown",
   "metadata": {},
   "source": [
    "## Cite"
   ]
  },
  {
   "cell_type": "markdown",
   "metadata": {},
   "source": [
    "This repository contains code and data used in the paper [Comparative K-Pop Choreography Analysis through Deep-Learning Pose Estimation across A Large Video Corpus](http://www.digitalhumanities.org/dhq/vol/15/1/000506/000506.html):\n",
    "\n",
    "    @article{btdhq2021151,\n",
    "        author = {Peter Broadwell and Timothy R. Tangherlini},\n",
    "        title = {Comparative K-Pop Choreography Analysis through Deep-Learning Pose Estimation across A Large Video Corpus},\n",
    "        journal = {Digital Humanities Quarterly},\n",
    "        volume = {15},\n",
    "        number = {1},\n",
    "        year = 2021\n",
    "    }"
   ]
  },
  {
   "cell_type": "markdown",
   "metadata": {},
   "source": [
    "## Try"
   ]
  },
  {
   "cell_type": "markdown",
   "metadata": {},
   "source": [
    "The full Python code package documented here is still under development. To try out the pose analysis code in the meantime, we recommend opening the notebook [Pose_analysis_examples.ipynb](https://github.com/broadwell/choreo_k_backup/blob/main/Pose_analysis_examples.ipynb) in Google Colab:\n",
    "\n",
    "<a href=\"https://colab.research.google.com/github/broadwell/choreo_k_backup/blob/main/Pose_analysis_examples.ipynb\"><img src=\"https://colab.research.google.com/assets/colab-badge.svg\" alt=\"Open in Google Colab\"></a>"
   ]
  },
  {
   "cell_type": "markdown",
   "metadata": {},
   "source": [
    "## Documentation\n",
    "\n",
    "Details of the specific functions of each module are available via the project [documentation site](https://broadwell.github.io/choreo_k/).\n",
    "\n",
    "Generally, though, `choreo_k` is intended to provide the pose analysis ~~pipeline~~ routine illustrated in the following figure, in which each step of the routine can be implemented in one or more different ways, but each implementation provides roughly equivalent functionality. For example, different third-party pose detection libraries may be used to generate pose data, which then can be modified, represented, analyzed and visualized by any modules that support a specific library's pose data output format.\n",
    "\n",
    "![An illustration of the steps of the archetypal pose analysis routine](pose_analysis_routine.png)"
   ]
  },
  {
   "cell_type": "markdown",
   "metadata": {},
   "source": []
  }
 ],
 "metadata": {
  "kernelspec": {
   "display_name": "Python 3.10.6 64-bit",
   "language": "python",
   "name": "python3"
  }
 },
 "nbformat": 4,
 "nbformat_minor": 2
}
